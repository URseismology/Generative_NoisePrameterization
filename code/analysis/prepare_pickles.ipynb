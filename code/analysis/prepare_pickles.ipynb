{
 "cells": [
  {
   "cell_type": "code",
   "execution_count": null,
   "metadata": {},
   "outputs": [],
   "source": [
    "import os\n",
    "import pickle\n",
    "from PRJ_AUTO_NOISEPARAM.code.lib.utils import process_seismic_data"
   ]
  },
  {
   "cell_type": "code",
   "execution_count": null,
   "metadata": {},
   "outputs": [],
   "source": [
    "def pickleload_traindata(datapath,savepath):\n",
    "    data = process_seismic_data(datapath,savepath)\n",
    "    savepath = os.path.join(savepath, 'anmo_noise_data_normalized.pkl')\n",
    "    with open(savepath, 'wb') as f:\n",
    "        pickle.dump(data, f)\n",
    "\n",
    "#execute the process and save file \n",
    "pickleload_traindata('PRJ_AUTO_NOISEPARAM/data/raw/ANMO/*','PRJ_AUTO_NOISEPARAM/data/processed/ANMO/')"
   ]
  },
  {
   "cell_type": "code",
   "execution_count": null,
   "metadata": {},
   "outputs": [],
   "source": []
  },
  {
   "cell_type": "code",
   "execution_count": null,
   "metadata": {},
   "outputs": [],
   "source": []
  },
  {
   "cell_type": "code",
   "execution_count": null,
   "metadata": {},
   "outputs": [],
   "source": []
  }
 ],
 "metadata": {
  "kernelspec": {
   "display_name": "Python 3 (ipykernel)",
   "language": "python",
   "name": "python3"
  },
  "language_info": {
   "codemirror_mode": {
    "name": "ipython",
    "version": 3
   },
   "file_extension": ".py",
   "mimetype": "text/x-python",
   "name": "python",
   "nbconvert_exporter": "python",
   "pygments_lexer": "ipython3",
   "version": "3.10.13"
  }
 },
 "nbformat": 4,
 "nbformat_minor": 2
}
